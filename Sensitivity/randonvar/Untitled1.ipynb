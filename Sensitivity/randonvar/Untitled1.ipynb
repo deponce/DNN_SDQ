{
 "cells": [
  {
   "cell_type": "code",
   "execution_count": 1,
   "id": "4e3a98a1",
   "metadata": {},
   "outputs": [
    {
     "name": "stderr",
     "output_type": "stream",
     "text": [
      "/home/deponce/.local/lib/python3.8/site-packages/torch/cuda/__init__.py:52: UserWarning: CUDA initialization: CUDA unknown error - this may be due to an incorrectly set up environment, e.g. changing env variable CUDA_VISIBLE_DEVICES after program start. Setting the available devices to be zero. (Triggered internally at  /pytorch/c10/cuda/CUDAFunctions.cpp:115.)\n",
      "  return torch._C._cuda_getDeviceCount() > 0\n"
     ]
    }
   ],
   "source": [
    "import numpy as np\n",
    "import matplotlib.pyplot as plt\n",
    "from PIL import Image\n",
    "import torch\n",
    "from torchvision.transforms import InterpolationMode\n",
    "from torchvision import models, datasets, transforms\n",
    "from torch.autograd.functional import jacobian\n",
    "import math\n",
    "from utils import *"
   ]
  },
  {
   "cell_type": "code",
   "execution_count": 2,
   "id": "f117e474",
   "metadata": {},
   "outputs": [],
   "source": [
    "def C(i):\n",
    "    if i == 0:\n",
    "        return 1/(2*math.sqrt(2))\n",
    "    else:\n",
    "        return 1/2\n",
    "def getDCTCoef(size = (8,8)):\n",
    "    DCT_coef = torch.zeros(size).double()\n",
    "    for i in range(size[0]):\n",
    "        for k in range(size[1]):\n",
    "            C_i = C(i)\n",
    "            DCT_coef[i,k]=C_i*math.cos((2*k+1)*i*math.pi/16)\n",
    "    return DCT_coef\n",
    "DCT_coef = getDCTCoef((8,8))"
   ]
  },
  {
   "cell_type": "code",
   "execution_count": 3,
   "id": "55ca3ad7",
   "metadata": {},
   "outputs": [],
   "source": [
    "IDCT_coef = torch.inverse(DCT_coef)"
   ]
  },
  {
   "cell_type": "code",
   "execution_count": 4,
   "id": "e8b055e0",
   "metadata": {},
   "outputs": [],
   "source": [
    "resize8 = transforms.Resize((8, 8))\n",
    "def process(blocks):\n",
    "    return resize8(blocks[None,None,:])"
   ]
  },
  {
   "cell_type": "code",
   "execution_count": 5,
   "id": "422b9446",
   "metadata": {},
   "outputs": [
    {
     "data": {
      "text/plain": [
       "torch.Size([8, 8, 17, 17])"
      ]
     },
     "execution_count": 5,
     "metadata": {},
     "output_type": "execute_result"
    }
   ],
   "source": [
    "blocks = torch.ones([17,17]).double()\n",
    "t1 = jacobian(process, blocks)[0,0]\n",
    "t1.shape"
   ]
  },
  {
   "cell_type": "code",
   "execution_count": 6,
   "id": "ce1b8549",
   "metadata": {},
   "outputs": [
    {
     "data": {
      "text/plain": [
       "tensor(64., dtype=torch.float64)"
      ]
     },
     "execution_count": 6,
     "metadata": {},
     "output_type": "execute_result"
    }
   ],
   "source": [
    "torch.sum(torch.abs(t1))"
   ]
  },
  {
   "cell_type": "code",
   "execution_count": 7,
   "id": "40601e9b",
   "metadata": {},
   "outputs": [
    {
     "data": {
      "text/plain": [
       "tensor([[0.3164, 0.0000, 0.0000, 0.0000, 0.0000, 0.0000, 0.0000, 0.0000],\n",
       "        [0.0000, 0.0000, 0.0000, 0.0000, 0.0000, 0.0000, 0.0000, 0.0000],\n",
       "        [0.0000, 0.0000, 0.0000, 0.0000, 0.0000, 0.0000, 0.0000, 0.0000],\n",
       "        [0.0000, 0.0000, 0.0000, 0.0000, 0.0000, 0.0000, 0.0000, 0.0000],\n",
       "        [0.0000, 0.0000, 0.0000, 0.0000, 0.0000, 0.0000, 0.0000, 0.0000],\n",
       "        [0.0000, 0.0000, 0.0000, 0.0000, 0.0000, 0.0000, 0.0000, 0.0000],\n",
       "        [0.0000, 0.0000, 0.0000, 0.0000, 0.0000, 0.0000, 0.0000, 0.0000],\n",
       "        [0.0000, 0.0000, 0.0000, 0.0000, 0.0000, 0.0000, 0.0000, 0.0000]],\n",
       "       dtype=torch.float64)"
      ]
     },
     "execution_count": 7,
     "metadata": {},
     "output_type": "execute_result"
    }
   ],
   "source": [
    "t1[:,:,1,1]"
   ]
  },
  {
   "cell_type": "code",
   "execution_count": 8,
   "id": "ef3d1fff",
   "metadata": {},
   "outputs": [
    {
     "data": {
      "text/plain": [
       "tensor([[0.0000, 0.0000, 0.0000, 0.0000, 0.0000, 0.0000, 0.0000, 0.0000],\n",
       "        [0.0000, 0.2148, 0.0000, 0.0000, 0.0000, 0.0000, 0.0000, 0.0000],\n",
       "        [0.0000, 0.0000, 0.0000, 0.0000, 0.0000, 0.0000, 0.0000, 0.0000],\n",
       "        [0.0000, 0.0000, 0.0000, 0.0000, 0.0000, 0.0000, 0.0000, 0.0000],\n",
       "        [0.0000, 0.0000, 0.0000, 0.0000, 0.0000, 0.0000, 0.0000, 0.0000],\n",
       "        [0.0000, 0.0000, 0.0000, 0.0000, 0.0000, 0.0000, 0.0000, 0.0000],\n",
       "        [0.0000, 0.0000, 0.0000, 0.0000, 0.0000, 0.0000, 0.0000, 0.0000],\n",
       "        [0.0000, 0.0000, 0.0000, 0.0000, 0.0000, 0.0000, 0.0000, 0.0000]],\n",
       "       dtype=torch.float64)"
      ]
     },
     "execution_count": 8,
     "metadata": {},
     "output_type": "execute_result"
    }
   ],
   "source": [
    "t1[:,:,3,2]"
   ]
  },
  {
   "cell_type": "code",
   "execution_count": null,
   "id": "f1a708b9",
   "metadata": {},
   "outputs": [],
   "source": []
  },
  {
   "cell_type": "code",
   "execution_count": 246,
   "id": "29a6d0e6",
   "metadata": {},
   "outputs": [],
   "source": [
    "blocks = torch.ones([8,8]).double()\n",
    "def IDCT(blocks):\n",
    "    return IDCT_coef@(blocks[None,None,:])@IDCT_coef.transpose(1,0)"
   ]
  },
  {
   "cell_type": "code",
   "execution_count": 247,
   "id": "c7a71b8e",
   "metadata": {},
   "outputs": [],
   "source": [
    "def DCT(blocks):\n",
    "    return DCT_coef@(blocks[None,None,:])@DCT_coef.transpose(1,0)"
   ]
  },
  {
   "cell_type": "code",
   "execution_count": 248,
   "id": "62320126",
   "metadata": {},
   "outputs": [],
   "source": [
    "radblocks = torch.tensor(np.random.rand(8,8)).double()"
   ]
  },
  {
   "cell_type": "code",
   "execution_count": 253,
   "id": "77659848",
   "metadata": {},
   "outputs": [],
   "source": [
    "IDCTjacobian = jacobian(IDCT, radblocks)[0,0]"
   ]
  },
  {
   "cell_type": "code",
   "execution_count": 250,
   "id": "09b9aaf0",
   "metadata": {},
   "outputs": [],
   "source": [
    "DCTjacobian = jacobian(DCT, blocks)[0,0]"
   ]
  },
  {
   "cell_type": "code",
   "execution_count": 251,
   "id": "36b89f12",
   "metadata": {},
   "outputs": [
    {
     "data": {
      "text/plain": [
       "torch.Size([8, 8, 8, 8])"
      ]
     },
     "execution_count": 251,
     "metadata": {},
     "output_type": "execute_result"
    }
   ],
   "source": [
    "DCTjacobian.shape"
   ]
  },
  {
   "cell_type": "code",
   "execution_count": 245,
   "id": "edbc43ef",
   "metadata": {},
   "outputs": [
    {
     "data": {
      "text/plain": [
       "torch.Size([8, 8, 8, 8])"
      ]
     },
     "execution_count": 245,
     "metadata": {},
     "output_type": "execute_result"
    }
   ],
   "source": [
    "DCTjacobian.shape"
   ]
  },
  {
   "cell_type": "code",
   "execution_count": 23,
   "id": "9e7189a3",
   "metadata": {},
   "outputs": [
    {
     "data": {
      "text/plain": [
       "torch.Size([8, 8])"
      ]
     },
     "execution_count": 23,
     "metadata": {},
     "output_type": "execute_result"
    }
   ],
   "source": [
    "DCTjacobian[0,0].shape"
   ]
  },
  {
   "cell_type": "code",
   "execution_count": 24,
   "id": "475ae857",
   "metadata": {},
   "outputs": [],
   "source": [
    "resize224 = transforms.Resize((224,224))"
   ]
  },
  {
   "cell_type": "code",
   "execution_count": 25,
   "id": "b030a4e9",
   "metadata": {},
   "outputs": [
    {
     "data": {
      "text/plain": [
       "torch.Size([1, 1, 500, 500])"
      ]
     },
     "execution_count": 25,
     "metadata": {},
     "output_type": "execute_result"
    }
   ],
   "source": [
    "import torch.autograd\n",
    "x = torch.tensor(np.random.rand(1,1,500,500))\n",
    "x.requires_grad = True\n",
    "y = resize224(x)\n",
    "y.backward(gradient=torch.tensor(np.random.rand(1,1,224,224))/2)\n",
    "x.grad.shape"
   ]
  },
  {
   "cell_type": "code",
   "execution_count": 27,
   "id": "3da1a3b4",
   "metadata": {},
   "outputs": [],
   "source": [
    "img = torch.ones(1,14,14)"
   ]
  },
  {
   "cell_type": "code",
   "execution_count": 28,
   "id": "6943461e",
   "metadata": {},
   "outputs": [
    {
     "data": {
      "text/plain": [
       "torch.Size([1, 14, 14])"
      ]
     },
     "execution_count": 28,
     "metadata": {},
     "output_type": "execute_result"
    }
   ],
   "source": [
    "img.shape"
   ]
  },
  {
   "cell_type": "markdown",
   "id": "819d3d68",
   "metadata": {
    "scrolled": true
   },
   "source": [
    "imgAddAxis = img[None,:]\n",
    "img_shape = img.shape[-2:]\n",
    "DCTBlock = block_dct(blockify(imgAddAxis, 8))\n",
    "DCTBlock.requires_grad = True\n",
    "RecoverImg = deblockify(block_idct(DCTBlock), (img_shape[0], img_shape[1]))\n",
    "RecoverSizeImg = resize224(RecoverImg)\n",
    "RecoverSizeImg.backward(gradient=torch.tensor(np.zeros([1,8,8,8])))\n",
    "DCTBlock.grad"
   ]
  },
  {
   "cell_type": "code",
   "execution_count": 30,
   "id": "9a1090be",
   "metadata": {},
   "outputs": [],
   "source": [
    "radblocks = torch.tensor(np.random.rand(14,14)).double()"
   ]
  },
  {
   "cell_type": "code",
   "execution_count": 31,
   "id": "8c5b8998",
   "metadata": {},
   "outputs": [],
   "source": [
    "resize8 = transforms.Resize((8, 8))\n",
    "def process(DCTblocks):\n",
    "    blockSize = DCTblocks.shape\n",
    "    DCT_coef = getDCTCoef(blockSize)\n",
    "    IDCT_coef = torch.inverse(DCT_coef)\n",
    "    blocks = IDCT_coef@DCTblocks@(IDCT_coef.transpose(1,0))\n",
    "    resizeBlock = resize8(blocks[None,None,:])\n",
    "    DCT_coef8 = getDCTCoef((8,8))\n",
    "    return DCT_coef8@resizeBlock[0,0]@(DCT_coef8.transpose(1,0))"
   ]
  },
  {
   "cell_type": "code",
   "execution_count": null,
   "id": "17e92dbd",
   "metadata": {},
   "outputs": [],
   "source": [
    "def process(DCTblocks):\n",
    "    blockSize = DCTblocks.shape\n",
    "    DCT_coef = getDCTCoef(blockSize)\n",
    "    IDCT_coef = torch.inverse(DCT_coef)\n",
    "    blocks = IDCT_coef@DCTblocks@(IDCT_coef.transpose(1,0))\n",
    "    resizeBlock = resize8(blocks[None,None,:])\n",
    "    DCT_coef8 = getDCTCoef((8,8))\n",
    "    return DCT_coef8@resizeBlock[0,0]@(DCT_coef8.transpose(1,0))"
   ]
  },
  {
   "cell_type": "code",
   "execution_count": 307,
   "id": "a344d1d7",
   "metadata": {},
   "outputs": [],
   "source": [
    "def resizefn(DCTblocks): \n",
    "    return transforms.Resize((24, 24))(DCTblocks[None,None,:])"
   ]
  },
  {
   "cell_type": "code",
   "execution_count": null,
   "id": "b8914cd0",
   "metadata": {},
   "outputs": [],
   "source": []
  }
 ],
 "metadata": {
  "kernelspec": {
   "display_name": "Python 3 (ipykernel)",
   "language": "python",
   "name": "python3"
  },
  "language_info": {
   "codemirror_mode": {
    "name": "ipython",
    "version": 3
   },
   "file_extension": ".py",
   "mimetype": "text/x-python",
   "name": "python",
   "nbconvert_exporter": "python",
   "pygments_lexer": "ipython3",
   "version": "3.8.10"
  }
 },
 "nbformat": 4,
 "nbformat_minor": 5
}
