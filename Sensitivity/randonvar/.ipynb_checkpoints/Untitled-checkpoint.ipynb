{
 "cells": [
  {
   "cell_type": "code",
   "execution_count": 1,
   "id": "7049348e",
   "metadata": {},
   "outputs": [],
   "source": [
    "import numpy as np\n",
    "import matplotlib.pyplot as plt\n",
    "import torch.autograd\n",
    "import torch\n",
    "from torchvision import models, datasets, transforms\n",
    "import math\n",
    "from utils import blockify, deblockify, block_dct, block_idct, square_to_zigzag, get_zigzag\n",
    "from tqdm import tqdm"
   ]
  },
  {
   "cell_type": "code",
   "execution_count": 2,
   "id": "47e6c21a",
   "metadata": {},
   "outputs": [],
   "source": [
    "def C(i):\n",
    "    if i == 0:\n",
    "        return 1/(2*math.sqrt(2))\n",
    "    else:\n",
    "        return 1/2\n",
    "def getDCTCoef(size = (8,8)):\n",
    "    DCT_coef = torch.zeros(size).double()\n",
    "    for i in range(size[0]):\n",
    "        for k in range(size[1]):\n",
    "            C_i = C(i)\n",
    "            DCT_coef[i,k]=C_i*math.cos((2*k+1)*i*math.pi/16)\n",
    "    return DCT_coef\n",
    "DCT_coef = getDCTCoef((8,8))\n",
    "IDCT_coef = torch.inverse(DCT_coef)\n",
    "resize224 = transforms.Resize((224, 224))\n",
    "zigzag = get_zigzag()"
   ]
  },
  {
   "cell_type": "code",
   "execution_count": 3,
   "id": "b2312648",
   "metadata": {},
   "outputs": [
    {
     "data": {
      "text/plain": [
       "[<matplotlib.lines.Line2D at 0x7fb20de32700>]"
      ]
     },
     "execution_count": 3,
     "metadata": {},
     "output_type": "execute_result"
    },
    {
     "data": {
      "image/png": "[encoded data removed]",
      "text/plain": [
       "<Figure size 432x288 with 1 Axes>"
      ]
     },
     "metadata": {
      "needs_background": "light"
     },
     "output_type": "display_data"
    }
   ],
   "source": [
    "inputgrad = np.mean(np.abs(np.load(\"./grad/Cb_sen_listAlexnet.npy\")),0)[None,None,:,:]\n",
    "flatten_grad = square_to_zigzag(torch.tensor(inputgrad[0,0])).detach().numpy()\n",
    "plt.plot(flatten_grad)"
   ]
  },
  {
   "cell_type": "code",
   "execution_count": 4,
   "id": "11c400b5",
   "metadata": {},
   "outputs": [
    {
     "data": {
      "text/plain": [
       "tensor([[ 0.3536,  0.4904,  0.4619,  0.4157,  0.3536,  0.2778,  0.1913,  0.0975],\n",
       "        [ 0.3536,  0.4157,  0.1913, -0.0975, -0.3536, -0.4904, -0.4619, -0.2778],\n",
       "        [ 0.3536,  0.2778, -0.1913, -0.4904, -0.3536,  0.0975,  0.4619,  0.4157],\n",
       "        [ 0.3536,  0.0975, -0.4619, -0.2778,  0.3536,  0.4157, -0.1913, -0.4904],\n",
       "        [ 0.3536, -0.0975, -0.4619,  0.2778,  0.3536, -0.4157, -0.1913,  0.4904],\n",
       "        [ 0.3536, -0.2778, -0.1913,  0.4904, -0.3536, -0.0975,  0.4619, -0.4157],\n",
       "        [ 0.3536, -0.4157,  0.1913,  0.0975, -0.3536,  0.4904, -0.4619,  0.2778],\n",
       "        [ 0.3536, -0.4904,  0.4619, -0.4157,  0.3536, -0.2778,  0.1913, -0.0975]],\n",
       "       dtype=torch.float64)"
      ]
     },
     "execution_count": 4,
     "metadata": {},
     "output_type": "execute_result"
    }
   ],
   "source": [
    "IDCT_coef"
   ]
  },
  {
   "cell_type": "code",
   "execution_count": 5,
   "id": "c42f363e",
   "metadata": {},
   "outputs": [
    {
     "data": {
      "text/plain": [
       "(1, 1, 784, 8, 8)"
      ]
     },
     "execution_count": 5,
     "metadata": {},
     "output_type": "execute_result"
    }
   ],
   "source": [
    "grad = np.zeros((8,8))[None,None,:]\n",
    "grad[:,:,0,0] = 1\n",
    "grad = grad.repeat(784,1)[None,:]\n",
    "grad = grad.repeat(1,1)\n",
    "grad.shape"
   ]
  },
  {
   "cell_type": "code",
   "execution_count": 6,
   "id": "8cbc64cd",
   "metadata": {},
   "outputs": [],
   "source": [
    "img = torch.tensor(np.random.rand(1,500,500))"
   ]
  },
  {
   "cell_type": "code",
   "execution_count": 25,
   "id": "58065bb9",
   "metadata": {
    "scrolled": true
   },
   "outputs": [
    {
     "name": "stderr",
     "output_type": "stream",
     "text": [
      "100%|█████████████████████████████████████████████| 8/8 [00:00<00:00, 16.27it/s]\n"
     ]
    }
   ],
   "source": [
    "G_lst = []\n",
    "for i in tqdm(range(8)):\n",
    "    for j in range(8):\n",
    "        grad = np.zeros((8,8))[None,None,:]\n",
    "        grad[:,:,i,j] = 1\n",
    "        grad = grad.repeat(784,1)[None,:]\n",
    "        grad = grad.repeat(1,1)\n",
    "        idx = zigzag[i,j]\n",
    "        DCTblock = DCT_coef@(blockify(img[None,:], 8))@(DCT_coef.transpose(1,0))\n",
    "        DCTblock.requires_grad = True\n",
    "        rcvimg = deblockify(IDCT_coef@DCTblock@(IDCT_coef.transpose(1,0)),img.shape[1:])\n",
    "        rszimg = resize224(rcvimg)\n",
    "        DCTrszcoef = DCT_coef@blockify(rszimg, 8)@(DCT_coef.transpose(1,0))\n",
    "        DCTrszcoef.backward(torch.tensor(grad))\n",
    "        G = DCTblock.grad\n",
    "        tmp = G[0].detach().cpu().numpy()\n",
    "        G_lst.append(tmp)\n",
    "G_lst = np.array(G_lst)\n",
    "G_lst = G_lst[:,0,:,:]\n",
    "# Jacobian = torch.tensor(np.zeros((64,G_lst.shape[1],64)))\n",
    "#         Jacobian[idx]=square_to_zigzag(torch.mean(torch.abs(G),[0,2])[0]).detach().numpy()"
   ]
  },
  {
   "cell_type": "code",
   "execution_count": 26,
   "id": "a51e96cc",
   "metadata": {},
   "outputs": [
    {
     "data": {
      "text/plain": [
       "(64, 3969, 8, 8)"
      ]
     },
     "execution_count": 26,
     "metadata": {},
     "output_type": "execute_result"
    }
   ],
   "source": [
    "G_lst.shape"
   ]
  },
  {
   "cell_type": "code",
   "execution_count": 27,
   "id": "20f1f243",
   "metadata": {},
   "outputs": [
    {
     "data": {
      "text/plain": [
       "(64, 3969)"
      ]
     },
     "execution_count": 27,
     "metadata": {},
     "output_type": "execute_result"
    }
   ],
   "source": [
    "G_lst[:,:,3,5].shape"
   ]
  },
  {
   "cell_type": "code",
   "execution_count": 28,
   "id": "3b68de5f",
   "metadata": {},
   "outputs": [],
   "source": [
    "G_lst = np.mean(np.abs(G_lst),1)"
   ]
  },
  {
   "cell_type": "code",
   "execution_count": 29,
   "id": "dc4ed01b",
   "metadata": {
    "scrolled": false
   },
   "outputs": [
    {
     "data": {
      "text/plain": [
       "(64, 8, 8)"
      ]
     },
     "execution_count": 29,
     "metadata": {},
     "output_type": "execute_result"
    }
   ],
   "source": [
    "G_lst.shape"
   ]
  },
  {
   "cell_type": "code",
   "execution_count": null,
   "id": "3b8863d0",
   "metadata": {},
   "outputs": [],
   "source": [
    "G_lst[0]"
   ]
  },
  {
   "cell_type": "code",
   "execution_count": null,
   "id": "4a99821f",
   "metadata": {},
   "outputs": [],
   "source": [
    "G_lst[20]"
   ]
  },
  {
   "cell_type": "code",
   "execution_count": 32,
   "id": "82b5c861",
   "metadata": {},
   "outputs": [
    {
     "data": {
      "text/plain": [
       "array([[0.19753086, 0.008316  , 0.02291682, 0.00819342, 0.02988788,\n",
       "        0.01446613, 0.06839736, 0.09430669],\n",
       "       [0.008316  , 0.0003501 , 0.00096479, 0.00034494, 0.00125827,\n",
       "        0.00060902, 0.00287951, 0.00397029],\n",
       "       [0.02291682, 0.00096479, 0.00265873, 0.00095057, 0.00346748,\n",
       "        0.00167831, 0.00793522, 0.01094112],\n",
       "       [0.00819342, 0.00034494, 0.00095057, 0.00033986, 0.00123973,\n",
       "        0.00060004, 0.00283707, 0.00391176],\n",
       "       [0.02988788, 0.00125827, 0.00346748, 0.00123973, 0.00452226,\n",
       "        0.00218883, 0.01034903, 0.0142693 ],\n",
       "       [0.01446613, 0.00060902, 0.00167831, 0.00060004, 0.00218883,\n",
       "        0.00105942, 0.00500906, 0.00690653],\n",
       "       [0.06839736, 0.00287951, 0.00793522, 0.00283707, 0.01034903,\n",
       "        0.00500906, 0.02368338, 0.03265479],\n",
       "       [0.09430669, 0.00397029, 0.01094112, 0.00391176, 0.0142693 ,\n",
       "        0.00690653, 0.03265479, 0.04502462]])"
      ]
     },
     "execution_count": 32,
     "metadata": {},
     "output_type": "execute_result"
    }
   ],
   "source": [
    "G_lst[0]"
   ]
  },
  {
   "cell_type": "code",
   "execution_count": 31,
   "id": "044fcab2",
   "metadata": {},
   "outputs": [
    {
     "data": {
      "text/plain": [
       "array([[0.06415668, 0.10463044, 0.09773001, 0.05353077, 0.04510275,\n",
       "        0.07615771, 0.0631805 , 0.04354021],\n",
       "       [0.00270098, 0.00440492, 0.00411441, 0.00225363, 0.00189881,\n",
       "        0.00320622, 0.00265988, 0.00183303],\n",
       "       [0.00744323, 0.01213885, 0.01133828, 0.00621045, 0.00523266,\n",
       "        0.00883554, 0.00732997, 0.00505138],\n",
       "       [0.00266117, 0.00433999, 0.00405376, 0.00222041, 0.00187083,\n",
       "        0.00315896, 0.00262068, 0.00180601],\n",
       "       [0.00970738, 0.01583136, 0.01478727, 0.0080996 , 0.00682438,\n",
       "        0.01152322, 0.00955968, 0.00658796],\n",
       "       [0.0046985 , 0.00766259, 0.00715724, 0.00392031, 0.00330309,\n",
       "        0.00557739, 0.00462701, 0.00318866],\n",
       "       [0.022215  , 0.03622951, 0.03384015, 0.01853565, 0.01561735,\n",
       "        0.02637049, 0.02187698, 0.0150763 ],\n",
       "       [0.03063017, 0.04995346, 0.04665901, 0.02555707, 0.0215333 ,\n",
       "        0.03635979, 0.03016412, 0.0207873 ]])"
      ]
     },
     "execution_count": 31,
     "metadata": {},
     "output_type": "execute_result"
    }
   ],
   "source": [
    "G_lst[20]"
   ]
  },
  {
   "cell_type": "code",
   "execution_count": null,
   "id": "3581ae41",
   "metadata": {},
   "outputs": [],
   "source": []
  }
 ],
 "metadata": {
  "kernelspec": {
   "display_name": "Python 3 (ipykernel)",
   "language": "python",
   "name": "python3"
  },
  "language_info": {
   "codemirror_mode": {
    "name": "ipython",
    "version": 3
   },
   "file_extension": ".py",
   "mimetype": "text/x-python",
   "name": "python",
   "nbconvert_exporter": "python",
   "pygments_lexer": "ipython3",
   "version": "3.8.10"
  }
 },
 "nbformat": 4,
 "nbformat_minor": 5
}
