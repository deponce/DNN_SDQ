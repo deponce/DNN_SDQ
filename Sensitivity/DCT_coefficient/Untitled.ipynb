{
 "cells": [
  {
   "cell_type": "code",
   "execution_count": 1,
   "id": "b6e88ed5",
   "metadata": {},
   "outputs": [],
   "source": [
    "import numpy as np\n",
    "import matplotlib.pyplot as plt\n",
    "from utils import *\n",
    "from tqdm import tqdm"
   ]
  },
  {
   "cell_type": "code",
   "execution_count": 2,
   "id": "ad4d1349",
   "metadata": {},
   "outputs": [],
   "source": [
    "from scipy.stats import bootstrap"
   ]
  },
  {
   "cell_type": "code",
   "execution_count": 3,
   "id": "33ed9c6c",
   "metadata": {},
   "outputs": [],
   "source": [
    "Y_sen_list = np.load(\"Cr_sen_listVGG11.npy\")\n",
    "# Cb_sen_listAlexnet = np.load(\"Cb_sen_listAlexnet.npy\")\n",
    "# Cr_sen_listAlexnet = np.load(\"Cr_sen_listAlexnet.npy\")"
   ]
  },
  {
   "cell_type": "code",
   "execution_count": 4,
   "id": "b09e90a9",
   "metadata": {},
   "outputs": [
    {
     "data": {
      "text/plain": [
       "(10035200, 8, 8)"
      ]
     },
     "execution_count": 4,
     "metadata": {},
     "output_type": "execute_result"
    }
   ],
   "source": [
    "Y_sen_list.shape"
   ]
  },
  {
   "cell_type": "code",
   "execution_count": 5,
   "id": "5f65cd23",
   "metadata": {},
   "outputs": [],
   "source": [
    "Y_sen_list = Y_sen_list[:10000]"
   ]
  },
  {
   "cell_type": "code",
   "execution_count": 6,
   "id": "17572e5b",
   "metadata": {},
   "outputs": [],
   "source": [
    "lst_length = Y_sen_list.shape[0]"
   ]
  },
  {
   "cell_type": "code",
   "execution_count": 7,
   "id": "b1c7b7f0",
   "metadata": {},
   "outputs": [],
   "source": [
    "zigzag = get_zigzag()"
   ]
  },
  {
   "cell_type": "code",
   "execution_count": 8,
   "id": "227b1e98",
   "metadata": {},
   "outputs": [],
   "source": [
    "Y_sen_img = np.zeros((64,lst_length))\n",
    "for i in range(8):\n",
    "    for j in range(8):\n",
    "        Y_sen_img[zigzag[i,j]] = Y_sen_list[:,i,j]\n",
    "del Y_sen_list"
   ]
  },
  {
   "cell_type": "code",
   "execution_count": 9,
   "id": "ed63a977",
   "metadata": {},
   "outputs": [
    {
     "data": {
      "text/plain": [
       "(64, 50000)"
      ]
     },
     "execution_count": 9,
     "metadata": {},
     "output_type": "execute_result"
    }
   ],
   "source": [
    "Y_sen_img.shape"
   ]
  },
  {
   "cell_type": "code",
   "execution_count": null,
   "id": "8ac73ecd",
   "metadata": {},
   "outputs": [
    {
     "name": "stderr",
     "output_type": "stream",
     "text": [
      "\r",
      "  0%|                                                    | 0/64 [00:00<?, ?it/s]"
     ]
    }
   ],
   "source": [
    "bottom_lst = []\n",
    "top_lst = []\n",
    "mean_lst = []\n",
    "figure(figsize=(10, 8), dpi=1024)\n",
    "for i in tqdm(range(64)):\n",
    "    bottom,top = list(bootstrap((Y_sen_img[i],), np.mean, confidence_level=0.95,n_resamples=100).confidence_interval)\n",
    "    mean = np.mean((bottom,top))\n",
    "    bottom_lst.append(bottom)\n",
    "    top_lst.append(top)\n",
    "    mean_lst.append(mean)\n",
    "plt.plot(bottom_lst)\n",
    "plt.plot(top_lst)\n",
    "plt.plot(mean_lst)\n",
    "plt.xticks(np.arange(1,65,4))\n",
    "plt.title('Y channel L1 sensitivity, per image')\n",
    "print(mean_lst)"
   ]
  },
  {
   "cell_type": "code",
   "execution_count": null,
   "id": "4fe4d3ec",
   "metadata": {},
   "outputs": [],
   "source": []
  }
 ],
 "metadata": {
  "kernelspec": {
   "display_name": "Python 3 (ipykernel)",
   "language": "python",
   "name": "python3"
  },
  "language_info": {
   "codemirror_mode": {
    "name": "ipython",
    "version": 3
   },
   "file_extension": ".py",
   "mimetype": "text/x-python",
   "name": "python",
   "nbconvert_exporter": "python",
   "pygments_lexer": "ipython3",
   "version": "3.8.10"
  }
 },
 "nbformat": 4,
 "nbformat_minor": 5
}
